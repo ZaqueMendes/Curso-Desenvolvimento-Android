{
  "cells": [
    {
      "cell_type": "markdown",
      "metadata": {
        "id": "view-in-github",
        "colab_type": "text"
      },
      "source": [
        "<a href=\"https://colab.research.google.com/github/ZaqueMendes/Curso-Desenvolvimento-Android/blob/master/aula_1_relatorio_diario.ipynb\" target=\"_parent\"><img src=\"https://colab.research.google.com/assets/colab-badge.svg\" alt=\"Open In Colab\"/></a>"
      ]
    },
    {
      "cell_type": "markdown",
      "id": "7bec0308",
      "metadata": {
        "id": "7bec0308"
      },
      "source": [
        "# Projeto 1 - Relatório de fechamento de mercado por e-mail.\n",
        "\n",
        "\n",
        "### Desafio:\n",
        "\n",
        "* Construir um e-mail que chegue na caixa de entrada todos os dias com informações de fechamento do Ibovespa e dólar.\n",
        "\n",
        "### Passo a passo:\n",
        "\n",
        "   **Passo 1** - Importar os módulos e bibliotecas.\n",
        "   \n",
        "   **Passo 2** - Pegar dados do Ibovespa e do Dólar no Yahoo Finance.\n",
        "   \n",
        "   **Passo 3** - Manipular os dados para deixá-los nos formatos necessários para fazer as contas.\n",
        "   \n",
        "   **Passo 4** - Calcular o retorno diário, mensal e anual.\n",
        "   \n",
        "   **Passo 5** - Localizar, dentro das tabelas de retornos, os valores de fechamento de mercado que irão pro texto  anexado no e-mail.\n",
        "   \n",
        "   **Passo 6** - Fazer os gráficos dos ativos.\n",
        "   \n",
        "   **Passo 7** - Enviar o e-mail.\n"
      ]
    },
    {
      "cell_type": "code",
      "execution_count": 1,
      "id": "11e70f35",
      "metadata": {
        "colab": {
          "base_uri": "https://localhost:8080/"
        },
        "id": "11e70f35",
        "outputId": "0411ffd4-0660-49b6-c957-cf273a33b077"
      },
      "outputs": [
        {
          "output_type": "stream",
          "name": "stdout",
          "text": [
            "Looking in indexes: https://pypi.org/simple, https://us-python.pkg.dev/colab-wheels/public/simple/\n",
            "Collecting python-dotenv\n",
            "  Downloading python_dotenv-1.0.0-py3-none-any.whl (19 kB)\n",
            "Installing collected packages: python-dotenv\n",
            "Successfully installed python-dotenv-1.0.0\n"
          ]
        }
      ],
      "source": [
        "!pip install python-dotenv"
      ]
    },
    {
      "cell_type": "markdown",
      "id": "b3062fc8",
      "metadata": {
        "id": "b3062fc8"
      },
      "source": [
        "# Passo 1: Importando os módulos necessários"
      ]
    },
    {
      "cell_type": "code",
      "execution_count": 3,
      "id": "024f9e7d",
      "metadata": {
        "scrolled": true,
        "colab": {
          "base_uri": "https://localhost:8080/"
        },
        "id": "024f9e7d",
        "outputId": "1f5c9295-5fbb-4d69-e475-ef1e4b5044d7"
      },
      "outputs": [
        {
          "output_type": "stream",
          "name": "stdout",
          "text": [
            "Looking in indexes: https://pypi.org/simple, https://us-python.pkg.dev/colab-wheels/public/simple/\n",
            "Collecting mplcyberpunk\n",
            "  Downloading mplcyberpunk-0.6.0-py3-none-any.whl (6.0 kB)\n",
            "Requirement already satisfied: matplotlib in /usr/local/lib/python3.9/dist-packages (from mplcyberpunk) (3.7.1)\n",
            "Requirement already satisfied: importlib-resources>=3.2.0 in /usr/local/lib/python3.9/dist-packages (from matplotlib->mplcyberpunk) (5.12.0)\n",
            "Requirement already satisfied: python-dateutil>=2.7 in /usr/local/lib/python3.9/dist-packages (from matplotlib->mplcyberpunk) (2.8.2)\n",
            "Requirement already satisfied: kiwisolver>=1.0.1 in /usr/local/lib/python3.9/dist-packages (from matplotlib->mplcyberpunk) (1.4.4)\n",
            "Requirement already satisfied: numpy>=1.20 in /usr/local/lib/python3.9/dist-packages (from matplotlib->mplcyberpunk) (1.22.4)\n",
            "Requirement already satisfied: cycler>=0.10 in /usr/local/lib/python3.9/dist-packages (from matplotlib->mplcyberpunk) (0.11.0)\n",
            "Requirement already satisfied: contourpy>=1.0.1 in /usr/local/lib/python3.9/dist-packages (from matplotlib->mplcyberpunk) (1.0.7)\n",
            "Requirement already satisfied: packaging>=20.0 in /usr/local/lib/python3.9/dist-packages (from matplotlib->mplcyberpunk) (23.0)\n",
            "Requirement already satisfied: pillow>=6.2.0 in /usr/local/lib/python3.9/dist-packages (from matplotlib->mplcyberpunk) (8.4.0)\n",
            "Requirement already satisfied: fonttools>=4.22.0 in /usr/local/lib/python3.9/dist-packages (from matplotlib->mplcyberpunk) (4.39.3)\n",
            "Requirement already satisfied: pyparsing>=2.3.1 in /usr/local/lib/python3.9/dist-packages (from matplotlib->mplcyberpunk) (3.0.9)\n",
            "Requirement already satisfied: zipp>=3.1.0 in /usr/local/lib/python3.9/dist-packages (from importlib-resources>=3.2.0->matplotlib->mplcyberpunk) (3.15.0)\n",
            "Requirement already satisfied: six>=1.5 in /usr/local/lib/python3.9/dist-packages (from python-dateutil>=2.7->matplotlib->mplcyberpunk) (1.16.0)\n",
            "Installing collected packages: mplcyberpunk\n",
            "Successfully installed mplcyberpunk-0.6.0\n"
          ]
        }
      ],
      "source": [
        "!pip install mplcyberpunk\n",
        "import pandas as pd\n",
        "import datetime\n",
        "import yfinance as yf\n",
        "from matplotlib import pyplot as plt\n",
        "import mplcyberpunk\n",
        "import smtplib\n",
        "from email.message import EmailMessage"
      ]
    },
    {
      "cell_type": "markdown",
      "id": "b752fa2c",
      "metadata": {
        "id": "b752fa2c"
      },
      "source": [
        "# Passo 2: Pegar dados no Yahoo Finance"
      ]
    },
    {
      "cell_type": "code",
      "execution_count": 4,
      "id": "a25af891",
      "metadata": {
        "scrolled": false,
        "colab": {
          "base_uri": "https://localhost:8080/",
          "height": 503
        },
        "id": "a25af891",
        "outputId": "d74306ea-1bad-4ee2-d6a5-ea2ba442ccf5"
      },
      "outputs": [
        {
          "output_type": "stream",
          "name": "stdout",
          "text": [
            "[*********************100%***********************]  2 of 2 completed\n"
          ]
        },
        {
          "output_type": "display_data",
          "data": {
            "text/plain": [
              "           Adj Close             Close              High                 Low  \\\n",
              "               BRL=X     ^BVSP   BRL=X     ^BVSP   BRL=X     ^BVSP     BRL=X   \n",
              "Date                                                                           \n",
              "2022-04-11    4.6981  116953.0  4.6981  116953.0  4.7326  118320.0  4.684016   \n",
              "2022-04-12    4.6936  116147.0  4.6936  116147.0  4.6971  118615.0  4.621500   \n",
              "2022-04-13    4.6731  116782.0  4.6731  116782.0  4.7023  117329.0  4.653200   \n",
              "2022-04-14    4.6902  116182.0  4.6902  116182.0  4.7381  116781.0  4.669788   \n",
              "2022-04-15    4.7010       NaN  4.7010       NaN  4.7100       NaN  4.696500   \n",
              "...              ...       ...     ...       ...     ...       ...       ...   \n",
              "2023-04-04    5.0631  101869.0  5.0631  101869.0  5.0976  103056.0  5.048277   \n",
              "2023-04-05    5.0707  100978.0  5.0707  100978.0  5.0743  101960.0  5.027504   \n",
              "2023-04-06    5.0332  100822.0  5.0332  100822.0  5.0789  101628.0  5.028911   \n",
              "2023-04-07    5.0583       NaN  5.0583       NaN  5.0585       NaN  5.004350   \n",
              "2023-04-09    5.0549       NaN  5.0549       NaN  5.0549       NaN  5.054900   \n",
              "\n",
              "                        Open           Volume              \n",
              "               ^BVSP   BRL=X     ^BVSP  BRL=X       ^BVSP  \n",
              "Date                                                       \n",
              "2022-04-11  116953.0  4.6980  118320.0      0   9558400.0  \n",
              "2022-04-12  116054.0  4.6936  116963.0      0  11406800.0  \n",
              "2022-04-13  116150.0  4.6731  116150.0      0  12070500.0  \n",
              "2022-04-14  115624.0  4.6902  116781.0      0  10365400.0  \n",
              "2022-04-15       NaN  4.7010       NaN      0         NaN  \n",
              "...              ...     ...       ...    ...         ...  \n",
              "2023-04-04  101505.0  5.0631  101505.0      0  11695800.0  \n",
              "2023-04-05   99898.0  5.0707  101869.0      0  13256500.0  \n",
              "2023-04-06  100443.0  5.0332  100978.0      0   9818500.0  \n",
              "2023-04-07       NaN  5.0583       NaN      0         NaN  \n",
              "2023-04-09       NaN  5.0549       NaN      0         NaN  \n",
              "\n",
              "[261 rows x 12 columns]"
            ],
            "text/html": [
              "\n",
              "  <div id=\"df-a728a2a6-b6a0-4a7c-84a6-0571b052c9d1\">\n",
              "    <div class=\"colab-df-container\">\n",
              "      <div>\n",
              "<style scoped>\n",
              "    .dataframe tbody tr th:only-of-type {\n",
              "        vertical-align: middle;\n",
              "    }\n",
              "\n",
              "    .dataframe tbody tr th {\n",
              "        vertical-align: top;\n",
              "    }\n",
              "\n",
              "    .dataframe thead tr th {\n",
              "        text-align: left;\n",
              "    }\n",
              "\n",
              "    .dataframe thead tr:last-of-type th {\n",
              "        text-align: right;\n",
              "    }\n",
              "</style>\n",
              "<table border=\"1\" class=\"dataframe\">\n",
              "  <thead>\n",
              "    <tr>\n",
              "      <th></th>\n",
              "      <th colspan=\"2\" halign=\"left\">Adj Close</th>\n",
              "      <th colspan=\"2\" halign=\"left\">Close</th>\n",
              "      <th colspan=\"2\" halign=\"left\">High</th>\n",
              "      <th colspan=\"2\" halign=\"left\">Low</th>\n",
              "      <th colspan=\"2\" halign=\"left\">Open</th>\n",
              "      <th colspan=\"2\" halign=\"left\">Volume</th>\n",
              "    </tr>\n",
              "    <tr>\n",
              "      <th></th>\n",
              "      <th>BRL=X</th>\n",
              "      <th>^BVSP</th>\n",
              "      <th>BRL=X</th>\n",
              "      <th>^BVSP</th>\n",
              "      <th>BRL=X</th>\n",
              "      <th>^BVSP</th>\n",
              "      <th>BRL=X</th>\n",
              "      <th>^BVSP</th>\n",
              "      <th>BRL=X</th>\n",
              "      <th>^BVSP</th>\n",
              "      <th>BRL=X</th>\n",
              "      <th>^BVSP</th>\n",
              "    </tr>\n",
              "    <tr>\n",
              "      <th>Date</th>\n",
              "      <th></th>\n",
              "      <th></th>\n",
              "      <th></th>\n",
              "      <th></th>\n",
              "      <th></th>\n",
              "      <th></th>\n",
              "      <th></th>\n",
              "      <th></th>\n",
              "      <th></th>\n",
              "      <th></th>\n",
              "      <th></th>\n",
              "      <th></th>\n",
              "    </tr>\n",
              "  </thead>\n",
              "  <tbody>\n",
              "    <tr>\n",
              "      <th>2022-04-11</th>\n",
              "      <td>4.6981</td>\n",
              "      <td>116953.0</td>\n",
              "      <td>4.6981</td>\n",
              "      <td>116953.0</td>\n",
              "      <td>4.7326</td>\n",
              "      <td>118320.0</td>\n",
              "      <td>4.684016</td>\n",
              "      <td>116953.0</td>\n",
              "      <td>4.6980</td>\n",
              "      <td>118320.0</td>\n",
              "      <td>0</td>\n",
              "      <td>9558400.0</td>\n",
              "    </tr>\n",
              "    <tr>\n",
              "      <th>2022-04-12</th>\n",
              "      <td>4.6936</td>\n",
              "      <td>116147.0</td>\n",
              "      <td>4.6936</td>\n",
              "      <td>116147.0</td>\n",
              "      <td>4.6971</td>\n",
              "      <td>118615.0</td>\n",
              "      <td>4.621500</td>\n",
              "      <td>116054.0</td>\n",
              "      <td>4.6936</td>\n",
              "      <td>116963.0</td>\n",
              "      <td>0</td>\n",
              "      <td>11406800.0</td>\n",
              "    </tr>\n",
              "    <tr>\n",
              "      <th>2022-04-13</th>\n",
              "      <td>4.6731</td>\n",
              "      <td>116782.0</td>\n",
              "      <td>4.6731</td>\n",
              "      <td>116782.0</td>\n",
              "      <td>4.7023</td>\n",
              "      <td>117329.0</td>\n",
              "      <td>4.653200</td>\n",
              "      <td>116150.0</td>\n",
              "      <td>4.6731</td>\n",
              "      <td>116150.0</td>\n",
              "      <td>0</td>\n",
              "      <td>12070500.0</td>\n",
              "    </tr>\n",
              "    <tr>\n",
              "      <th>2022-04-14</th>\n",
              "      <td>4.6902</td>\n",
              "      <td>116182.0</td>\n",
              "      <td>4.6902</td>\n",
              "      <td>116182.0</td>\n",
              "      <td>4.7381</td>\n",
              "      <td>116781.0</td>\n",
              "      <td>4.669788</td>\n",
              "      <td>115624.0</td>\n",
              "      <td>4.6902</td>\n",
              "      <td>116781.0</td>\n",
              "      <td>0</td>\n",
              "      <td>10365400.0</td>\n",
              "    </tr>\n",
              "    <tr>\n",
              "      <th>2022-04-15</th>\n",
              "      <td>4.7010</td>\n",
              "      <td>NaN</td>\n",
              "      <td>4.7010</td>\n",
              "      <td>NaN</td>\n",
              "      <td>4.7100</td>\n",
              "      <td>NaN</td>\n",
              "      <td>4.696500</td>\n",
              "      <td>NaN</td>\n",
              "      <td>4.7010</td>\n",
              "      <td>NaN</td>\n",
              "      <td>0</td>\n",
              "      <td>NaN</td>\n",
              "    </tr>\n",
              "    <tr>\n",
              "      <th>...</th>\n",
              "      <td>...</td>\n",
              "      <td>...</td>\n",
              "      <td>...</td>\n",
              "      <td>...</td>\n",
              "      <td>...</td>\n",
              "      <td>...</td>\n",
              "      <td>...</td>\n",
              "      <td>...</td>\n",
              "      <td>...</td>\n",
              "      <td>...</td>\n",
              "      <td>...</td>\n",
              "      <td>...</td>\n",
              "    </tr>\n",
              "    <tr>\n",
              "      <th>2023-04-04</th>\n",
              "      <td>5.0631</td>\n",
              "      <td>101869.0</td>\n",
              "      <td>5.0631</td>\n",
              "      <td>101869.0</td>\n",
              "      <td>5.0976</td>\n",
              "      <td>103056.0</td>\n",
              "      <td>5.048277</td>\n",
              "      <td>101505.0</td>\n",
              "      <td>5.0631</td>\n",
              "      <td>101505.0</td>\n",
              "      <td>0</td>\n",
              "      <td>11695800.0</td>\n",
              "    </tr>\n",
              "    <tr>\n",
              "      <th>2023-04-05</th>\n",
              "      <td>5.0707</td>\n",
              "      <td>100978.0</td>\n",
              "      <td>5.0707</td>\n",
              "      <td>100978.0</td>\n",
              "      <td>5.0743</td>\n",
              "      <td>101960.0</td>\n",
              "      <td>5.027504</td>\n",
              "      <td>99898.0</td>\n",
              "      <td>5.0707</td>\n",
              "      <td>101869.0</td>\n",
              "      <td>0</td>\n",
              "      <td>13256500.0</td>\n",
              "    </tr>\n",
              "    <tr>\n",
              "      <th>2023-04-06</th>\n",
              "      <td>5.0332</td>\n",
              "      <td>100822.0</td>\n",
              "      <td>5.0332</td>\n",
              "      <td>100822.0</td>\n",
              "      <td>5.0789</td>\n",
              "      <td>101628.0</td>\n",
              "      <td>5.028911</td>\n",
              "      <td>100443.0</td>\n",
              "      <td>5.0332</td>\n",
              "      <td>100978.0</td>\n",
              "      <td>0</td>\n",
              "      <td>9818500.0</td>\n",
              "    </tr>\n",
              "    <tr>\n",
              "      <th>2023-04-07</th>\n",
              "      <td>5.0583</td>\n",
              "      <td>NaN</td>\n",
              "      <td>5.0583</td>\n",
              "      <td>NaN</td>\n",
              "      <td>5.0585</td>\n",
              "      <td>NaN</td>\n",
              "      <td>5.004350</td>\n",
              "      <td>NaN</td>\n",
              "      <td>5.0583</td>\n",
              "      <td>NaN</td>\n",
              "      <td>0</td>\n",
              "      <td>NaN</td>\n",
              "    </tr>\n",
              "    <tr>\n",
              "      <th>2023-04-09</th>\n",
              "      <td>5.0549</td>\n",
              "      <td>NaN</td>\n",
              "      <td>5.0549</td>\n",
              "      <td>NaN</td>\n",
              "      <td>5.0549</td>\n",
              "      <td>NaN</td>\n",
              "      <td>5.054900</td>\n",
              "      <td>NaN</td>\n",
              "      <td>5.0549</td>\n",
              "      <td>NaN</td>\n",
              "      <td>0</td>\n",
              "      <td>NaN</td>\n",
              "    </tr>\n",
              "  </tbody>\n",
              "</table>\n",
              "<p>261 rows × 12 columns</p>\n",
              "</div>\n",
              "      <button class=\"colab-df-convert\" onclick=\"convertToInteractive('df-a728a2a6-b6a0-4a7c-84a6-0571b052c9d1')\"\n",
              "              title=\"Convert this dataframe to an interactive table.\"\n",
              "              style=\"display:none;\">\n",
              "        \n",
              "  <svg xmlns=\"http://www.w3.org/2000/svg\" height=\"24px\"viewBox=\"0 0 24 24\"\n",
              "       width=\"24px\">\n",
              "    <path d=\"M0 0h24v24H0V0z\" fill=\"none\"/>\n",
              "    <path d=\"M18.56 5.44l.94 2.06.94-2.06 2.06-.94-2.06-.94-.94-2.06-.94 2.06-2.06.94zm-11 1L8.5 8.5l.94-2.06 2.06-.94-2.06-.94L8.5 2.5l-.94 2.06-2.06.94zm10 10l.94 2.06.94-2.06 2.06-.94-2.06-.94-.94-2.06-.94 2.06-2.06.94z\"/><path d=\"M17.41 7.96l-1.37-1.37c-.4-.4-.92-.59-1.43-.59-.52 0-1.04.2-1.43.59L10.3 9.45l-7.72 7.72c-.78.78-.78 2.05 0 2.83L4 21.41c.39.39.9.59 1.41.59.51 0 1.02-.2 1.41-.59l7.78-7.78 2.81-2.81c.8-.78.8-2.07 0-2.86zM5.41 20L4 18.59l7.72-7.72 1.47 1.35L5.41 20z\"/>\n",
              "  </svg>\n",
              "      </button>\n",
              "      \n",
              "  <style>\n",
              "    .colab-df-container {\n",
              "      display:flex;\n",
              "      flex-wrap:wrap;\n",
              "      gap: 12px;\n",
              "    }\n",
              "\n",
              "    .colab-df-convert {\n",
              "      background-color: #E8F0FE;\n",
              "      border: none;\n",
              "      border-radius: 50%;\n",
              "      cursor: pointer;\n",
              "      display: none;\n",
              "      fill: #1967D2;\n",
              "      height: 32px;\n",
              "      padding: 0 0 0 0;\n",
              "      width: 32px;\n",
              "    }\n",
              "\n",
              "    .colab-df-convert:hover {\n",
              "      background-color: #E2EBFA;\n",
              "      box-shadow: 0px 1px 2px rgba(60, 64, 67, 0.3), 0px 1px 3px 1px rgba(60, 64, 67, 0.15);\n",
              "      fill: #174EA6;\n",
              "    }\n",
              "\n",
              "    [theme=dark] .colab-df-convert {\n",
              "      background-color: #3B4455;\n",
              "      fill: #D2E3FC;\n",
              "    }\n",
              "\n",
              "    [theme=dark] .colab-df-convert:hover {\n",
              "      background-color: #434B5C;\n",
              "      box-shadow: 0px 1px 3px 1px rgba(0, 0, 0, 0.15);\n",
              "      filter: drop-shadow(0px 1px 2px rgba(0, 0, 0, 0.3));\n",
              "      fill: #FFFFFF;\n",
              "    }\n",
              "  </style>\n",
              "\n",
              "      <script>\n",
              "        const buttonEl =\n",
              "          document.querySelector('#df-a728a2a6-b6a0-4a7c-84a6-0571b052c9d1 button.colab-df-convert');\n",
              "        buttonEl.style.display =\n",
              "          google.colab.kernel.accessAllowed ? 'block' : 'none';\n",
              "\n",
              "        async function convertToInteractive(key) {\n",
              "          const element = document.querySelector('#df-a728a2a6-b6a0-4a7c-84a6-0571b052c9d1');\n",
              "          const dataTable =\n",
              "            await google.colab.kernel.invokeFunction('convertToInteractive',\n",
              "                                                     [key], {});\n",
              "          if (!dataTable) return;\n",
              "\n",
              "          const docLinkHtml = 'Like what you see? Visit the ' +\n",
              "            '<a target=\"_blank\" href=https://colab.research.google.com/notebooks/data_table.ipynb>data table notebook</a>'\n",
              "            + ' to learn more about interactive tables.';\n",
              "          element.innerHTML = '';\n",
              "          dataTable['output_type'] = 'display_data';\n",
              "          await google.colab.output.renderOutput(dataTable, element);\n",
              "          const docLink = document.createElement('div');\n",
              "          docLink.innerHTML = docLinkHtml;\n",
              "          element.appendChild(docLink);\n",
              "        }\n",
              "      </script>\n",
              "    </div>\n",
              "  </div>\n",
              "  "
            ]
          },
          "metadata": {}
        }
      ],
      "source": [
        "ativos = [\"^BVSP\", \"BRL=X\"]\n",
        "\n",
        "hoje = datetime.datetime.now()\n",
        "um_ano_atras = hoje - datetime.timedelta(days = 365)\n",
        "\n",
        "dados_mercado = yf.download(ativos, um_ano_atras, hoje)\n",
        "\n",
        "display(dados_mercado)"
      ]
    },
    {
      "cell_type": "markdown",
      "id": "a43b1c2a",
      "metadata": {
        "id": "a43b1c2a"
      },
      "source": [
        "# Passo 3.1: Manipulando os dados - seleção e exclusão de dados "
      ]
    },
    {
      "cell_type": "code",
      "execution_count": 5,
      "id": "4959c4e4",
      "metadata": {
        "scrolled": true,
        "colab": {
          "base_uri": "https://localhost:8080/",
          "height": 455
        },
        "id": "4959c4e4",
        "outputId": "5f46af13-6c34-4930-cdc2-51c6f4b1e4db"
      },
      "outputs": [
        {
          "output_type": "execute_result",
          "data": {
            "text/plain": [
              "             dolar  ibovespa\n",
              "Date                        \n",
              "2022-04-11  4.6981  116953.0\n",
              "2022-04-12  4.6936  116147.0\n",
              "2022-04-13  4.6731  116782.0\n",
              "2022-04-14  4.6902  116182.0\n",
              "2022-04-18  4.7006  115687.0\n",
              "...            ...       ...\n",
              "2023-03-31  5.0927  101882.0\n",
              "2023-04-03  5.0623  101506.0\n",
              "2023-04-04  5.0631  101869.0\n",
              "2023-04-05  5.0707  100978.0\n",
              "2023-04-06  5.0332  100822.0\n",
              "\n",
              "[249 rows x 2 columns]"
            ],
            "text/html": [
              "\n",
              "  <div id=\"df-6360af0b-3d49-4f9b-9659-24cd568332c0\">\n",
              "    <div class=\"colab-df-container\">\n",
              "      <div>\n",
              "<style scoped>\n",
              "    .dataframe tbody tr th:only-of-type {\n",
              "        vertical-align: middle;\n",
              "    }\n",
              "\n",
              "    .dataframe tbody tr th {\n",
              "        vertical-align: top;\n",
              "    }\n",
              "\n",
              "    .dataframe thead th {\n",
              "        text-align: right;\n",
              "    }\n",
              "</style>\n",
              "<table border=\"1\" class=\"dataframe\">\n",
              "  <thead>\n",
              "    <tr style=\"text-align: right;\">\n",
              "      <th></th>\n",
              "      <th>dolar</th>\n",
              "      <th>ibovespa</th>\n",
              "    </tr>\n",
              "    <tr>\n",
              "      <th>Date</th>\n",
              "      <th></th>\n",
              "      <th></th>\n",
              "    </tr>\n",
              "  </thead>\n",
              "  <tbody>\n",
              "    <tr>\n",
              "      <th>2022-04-11</th>\n",
              "      <td>4.6981</td>\n",
              "      <td>116953.0</td>\n",
              "    </tr>\n",
              "    <tr>\n",
              "      <th>2022-04-12</th>\n",
              "      <td>4.6936</td>\n",
              "      <td>116147.0</td>\n",
              "    </tr>\n",
              "    <tr>\n",
              "      <th>2022-04-13</th>\n",
              "      <td>4.6731</td>\n",
              "      <td>116782.0</td>\n",
              "    </tr>\n",
              "    <tr>\n",
              "      <th>2022-04-14</th>\n",
              "      <td>4.6902</td>\n",
              "      <td>116182.0</td>\n",
              "    </tr>\n",
              "    <tr>\n",
              "      <th>2022-04-18</th>\n",
              "      <td>4.7006</td>\n",
              "      <td>115687.0</td>\n",
              "    </tr>\n",
              "    <tr>\n",
              "      <th>...</th>\n",
              "      <td>...</td>\n",
              "      <td>...</td>\n",
              "    </tr>\n",
              "    <tr>\n",
              "      <th>2023-03-31</th>\n",
              "      <td>5.0927</td>\n",
              "      <td>101882.0</td>\n",
              "    </tr>\n",
              "    <tr>\n",
              "      <th>2023-04-03</th>\n",
              "      <td>5.0623</td>\n",
              "      <td>101506.0</td>\n",
              "    </tr>\n",
              "    <tr>\n",
              "      <th>2023-04-04</th>\n",
              "      <td>5.0631</td>\n",
              "      <td>101869.0</td>\n",
              "    </tr>\n",
              "    <tr>\n",
              "      <th>2023-04-05</th>\n",
              "      <td>5.0707</td>\n",
              "      <td>100978.0</td>\n",
              "    </tr>\n",
              "    <tr>\n",
              "      <th>2023-04-06</th>\n",
              "      <td>5.0332</td>\n",
              "      <td>100822.0</td>\n",
              "    </tr>\n",
              "  </tbody>\n",
              "</table>\n",
              "<p>249 rows × 2 columns</p>\n",
              "</div>\n",
              "      <button class=\"colab-df-convert\" onclick=\"convertToInteractive('df-6360af0b-3d49-4f9b-9659-24cd568332c0')\"\n",
              "              title=\"Convert this dataframe to an interactive table.\"\n",
              "              style=\"display:none;\">\n",
              "        \n",
              "  <svg xmlns=\"http://www.w3.org/2000/svg\" height=\"24px\"viewBox=\"0 0 24 24\"\n",
              "       width=\"24px\">\n",
              "    <path d=\"M0 0h24v24H0V0z\" fill=\"none\"/>\n",
              "    <path d=\"M18.56 5.44l.94 2.06.94-2.06 2.06-.94-2.06-.94-.94-2.06-.94 2.06-2.06.94zm-11 1L8.5 8.5l.94-2.06 2.06-.94-2.06-.94L8.5 2.5l-.94 2.06-2.06.94zm10 10l.94 2.06.94-2.06 2.06-.94-2.06-.94-.94-2.06-.94 2.06-2.06.94z\"/><path d=\"M17.41 7.96l-1.37-1.37c-.4-.4-.92-.59-1.43-.59-.52 0-1.04.2-1.43.59L10.3 9.45l-7.72 7.72c-.78.78-.78 2.05 0 2.83L4 21.41c.39.39.9.59 1.41.59.51 0 1.02-.2 1.41-.59l7.78-7.78 2.81-2.81c.8-.78.8-2.07 0-2.86zM5.41 20L4 18.59l7.72-7.72 1.47 1.35L5.41 20z\"/>\n",
              "  </svg>\n",
              "      </button>\n",
              "      \n",
              "  <style>\n",
              "    .colab-df-container {\n",
              "      display:flex;\n",
              "      flex-wrap:wrap;\n",
              "      gap: 12px;\n",
              "    }\n",
              "\n",
              "    .colab-df-convert {\n",
              "      background-color: #E8F0FE;\n",
              "      border: none;\n",
              "      border-radius: 50%;\n",
              "      cursor: pointer;\n",
              "      display: none;\n",
              "      fill: #1967D2;\n",
              "      height: 32px;\n",
              "      padding: 0 0 0 0;\n",
              "      width: 32px;\n",
              "    }\n",
              "\n",
              "    .colab-df-convert:hover {\n",
              "      background-color: #E2EBFA;\n",
              "      box-shadow: 0px 1px 2px rgba(60, 64, 67, 0.3), 0px 1px 3px 1px rgba(60, 64, 67, 0.15);\n",
              "      fill: #174EA6;\n",
              "    }\n",
              "\n",
              "    [theme=dark] .colab-df-convert {\n",
              "      background-color: #3B4455;\n",
              "      fill: #D2E3FC;\n",
              "    }\n",
              "\n",
              "    [theme=dark] .colab-df-convert:hover {\n",
              "      background-color: #434B5C;\n",
              "      box-shadow: 0px 1px 3px 1px rgba(0, 0, 0, 0.15);\n",
              "      filter: drop-shadow(0px 1px 2px rgba(0, 0, 0, 0.3));\n",
              "      fill: #FFFFFF;\n",
              "    }\n",
              "  </style>\n",
              "\n",
              "      <script>\n",
              "        const buttonEl =\n",
              "          document.querySelector('#df-6360af0b-3d49-4f9b-9659-24cd568332c0 button.colab-df-convert');\n",
              "        buttonEl.style.display =\n",
              "          google.colab.kernel.accessAllowed ? 'block' : 'none';\n",
              "\n",
              "        async function convertToInteractive(key) {\n",
              "          const element = document.querySelector('#df-6360af0b-3d49-4f9b-9659-24cd568332c0');\n",
              "          const dataTable =\n",
              "            await google.colab.kernel.invokeFunction('convertToInteractive',\n",
              "                                                     [key], {});\n",
              "          if (!dataTable) return;\n",
              "\n",
              "          const docLinkHtml = 'Like what you see? Visit the ' +\n",
              "            '<a target=\"_blank\" href=https://colab.research.google.com/notebooks/data_table.ipynb>data table notebook</a>'\n",
              "            + ' to learn more about interactive tables.';\n",
              "          element.innerHTML = '';\n",
              "          dataTable['output_type'] = 'display_data';\n",
              "          await google.colab.output.renderOutput(dataTable, element);\n",
              "          const docLink = document.createElement('div');\n",
              "          docLink.innerHTML = docLinkHtml;\n",
              "          element.appendChild(docLink);\n",
              "        }\n",
              "      </script>\n",
              "    </div>\n",
              "  </div>\n",
              "  "
            ]
          },
          "metadata": {},
          "execution_count": 5
        }
      ],
      "source": [
        "dados_fechamento = dados_mercado['Adj Close']\n",
        "dados_fechamento.columns = ['dolar', 'ibovespa']\n",
        "dados_fechamento = dados_fechamento.dropna()\n",
        "\n",
        "dados_fechamento"
      ]
    },
    {
      "cell_type": "markdown",
      "id": "ada33878",
      "metadata": {
        "id": "ada33878"
      },
      "source": [
        "# Passo 3.2: Manipulando os dados - Criando tabelas com outros timeframes. "
      ]
    },
    {
      "cell_type": "code",
      "execution_count": 6,
      "id": "484d488f",
      "metadata": {
        "scrolled": false,
        "colab": {
          "base_uri": "https://localhost:8080/",
          "height": 143
        },
        "id": "484d488f",
        "outputId": "ad7cd098-699e-4eec-a440-df0444677729"
      },
      "outputs": [
        {
          "output_type": "execute_result",
          "data": {
            "text/plain": [
              "             dolar  ibovespa\n",
              "Date                        \n",
              "2022-12-31  5.2668  110031.0\n",
              "2023-12-31  5.0332  100822.0"
            ],
            "text/html": [
              "\n",
              "  <div id=\"df-df38a7f1-3dd0-4345-8db8-3e9ae531bd70\">\n",
              "    <div class=\"colab-df-container\">\n",
              "      <div>\n",
              "<style scoped>\n",
              "    .dataframe tbody tr th:only-of-type {\n",
              "        vertical-align: middle;\n",
              "    }\n",
              "\n",
              "    .dataframe tbody tr th {\n",
              "        vertical-align: top;\n",
              "    }\n",
              "\n",
              "    .dataframe thead th {\n",
              "        text-align: right;\n",
              "    }\n",
              "</style>\n",
              "<table border=\"1\" class=\"dataframe\">\n",
              "  <thead>\n",
              "    <tr style=\"text-align: right;\">\n",
              "      <th></th>\n",
              "      <th>dolar</th>\n",
              "      <th>ibovespa</th>\n",
              "    </tr>\n",
              "    <tr>\n",
              "      <th>Date</th>\n",
              "      <th></th>\n",
              "      <th></th>\n",
              "    </tr>\n",
              "  </thead>\n",
              "  <tbody>\n",
              "    <tr>\n",
              "      <th>2022-12-31</th>\n",
              "      <td>5.2668</td>\n",
              "      <td>110031.0</td>\n",
              "    </tr>\n",
              "    <tr>\n",
              "      <th>2023-12-31</th>\n",
              "      <td>5.0332</td>\n",
              "      <td>100822.0</td>\n",
              "    </tr>\n",
              "  </tbody>\n",
              "</table>\n",
              "</div>\n",
              "      <button class=\"colab-df-convert\" onclick=\"convertToInteractive('df-df38a7f1-3dd0-4345-8db8-3e9ae531bd70')\"\n",
              "              title=\"Convert this dataframe to an interactive table.\"\n",
              "              style=\"display:none;\">\n",
              "        \n",
              "  <svg xmlns=\"http://www.w3.org/2000/svg\" height=\"24px\"viewBox=\"0 0 24 24\"\n",
              "       width=\"24px\">\n",
              "    <path d=\"M0 0h24v24H0V0z\" fill=\"none\"/>\n",
              "    <path d=\"M18.56 5.44l.94 2.06.94-2.06 2.06-.94-2.06-.94-.94-2.06-.94 2.06-2.06.94zm-11 1L8.5 8.5l.94-2.06 2.06-.94-2.06-.94L8.5 2.5l-.94 2.06-2.06.94zm10 10l.94 2.06.94-2.06 2.06-.94-2.06-.94-.94-2.06-.94 2.06-2.06.94z\"/><path d=\"M17.41 7.96l-1.37-1.37c-.4-.4-.92-.59-1.43-.59-.52 0-1.04.2-1.43.59L10.3 9.45l-7.72 7.72c-.78.78-.78 2.05 0 2.83L4 21.41c.39.39.9.59 1.41.59.51 0 1.02-.2 1.41-.59l7.78-7.78 2.81-2.81c.8-.78.8-2.07 0-2.86zM5.41 20L4 18.59l7.72-7.72 1.47 1.35L5.41 20z\"/>\n",
              "  </svg>\n",
              "      </button>\n",
              "      \n",
              "  <style>\n",
              "    .colab-df-container {\n",
              "      display:flex;\n",
              "      flex-wrap:wrap;\n",
              "      gap: 12px;\n",
              "    }\n",
              "\n",
              "    .colab-df-convert {\n",
              "      background-color: #E8F0FE;\n",
              "      border: none;\n",
              "      border-radius: 50%;\n",
              "      cursor: pointer;\n",
              "      display: none;\n",
              "      fill: #1967D2;\n",
              "      height: 32px;\n",
              "      padding: 0 0 0 0;\n",
              "      width: 32px;\n",
              "    }\n",
              "\n",
              "    .colab-df-convert:hover {\n",
              "      background-color: #E2EBFA;\n",
              "      box-shadow: 0px 1px 2px rgba(60, 64, 67, 0.3), 0px 1px 3px 1px rgba(60, 64, 67, 0.15);\n",
              "      fill: #174EA6;\n",
              "    }\n",
              "\n",
              "    [theme=dark] .colab-df-convert {\n",
              "      background-color: #3B4455;\n",
              "      fill: #D2E3FC;\n",
              "    }\n",
              "\n",
              "    [theme=dark] .colab-df-convert:hover {\n",
              "      background-color: #434B5C;\n",
              "      box-shadow: 0px 1px 3px 1px rgba(0, 0, 0, 0.15);\n",
              "      filter: drop-shadow(0px 1px 2px rgba(0, 0, 0, 0.3));\n",
              "      fill: #FFFFFF;\n",
              "    }\n",
              "  </style>\n",
              "\n",
              "      <script>\n",
              "        const buttonEl =\n",
              "          document.querySelector('#df-df38a7f1-3dd0-4345-8db8-3e9ae531bd70 button.colab-df-convert');\n",
              "        buttonEl.style.display =\n",
              "          google.colab.kernel.accessAllowed ? 'block' : 'none';\n",
              "\n",
              "        async function convertToInteractive(key) {\n",
              "          const element = document.querySelector('#df-df38a7f1-3dd0-4345-8db8-3e9ae531bd70');\n",
              "          const dataTable =\n",
              "            await google.colab.kernel.invokeFunction('convertToInteractive',\n",
              "                                                     [key], {});\n",
              "          if (!dataTable) return;\n",
              "\n",
              "          const docLinkHtml = 'Like what you see? Visit the ' +\n",
              "            '<a target=\"_blank\" href=https://colab.research.google.com/notebooks/data_table.ipynb>data table notebook</a>'\n",
              "            + ' to learn more about interactive tables.';\n",
              "          element.innerHTML = '';\n",
              "          dataTable['output_type'] = 'display_data';\n",
              "          await google.colab.output.renderOutput(dataTable, element);\n",
              "          const docLink = document.createElement('div');\n",
              "          docLink.innerHTML = docLinkHtml;\n",
              "          element.appendChild(docLink);\n",
              "        }\n",
              "      </script>\n",
              "    </div>\n",
              "  </div>\n",
              "  "
            ]
          },
          "metadata": {},
          "execution_count": 6
        }
      ],
      "source": [
        "dados_fechamento_mensal = dados_fechamento.resample(\"M\").last()\n",
        "dados_fechamento_anual = dados_fechamento.resample(\"Y\").last()\n",
        "\n",
        "dados_fechamento_anual"
      ]
    },
    {
      "cell_type": "markdown",
      "id": "8cda978d",
      "metadata": {
        "id": "8cda978d"
      },
      "source": [
        "# Passo 4 - Calcular fechamento do dia, retorno no ano e retorno no mês dos ativos. "
      ]
    },
    {
      "cell_type": "code",
      "execution_count": 7,
      "id": "41672272",
      "metadata": {
        "scrolled": false,
        "colab": {
          "base_uri": "https://localhost:8080/",
          "height": 455
        },
        "id": "41672272",
        "outputId": "9a8edefc-a819-4086-d442-d450e64164d7"
      },
      "outputs": [
        {
          "output_type": "execute_result",
          "data": {
            "text/plain": [
              "               dolar  ibovespa\n",
              "Date                          \n",
              "2022-04-12 -0.000958 -0.006892\n",
              "2022-04-13 -0.004368  0.005467\n",
              "2022-04-14  0.003659 -0.005138\n",
              "2022-04-18  0.002217 -0.004261\n",
              "2022-04-19 -0.010339 -0.005446\n",
              "...              ...       ...\n",
              "2023-03-31 -0.008083 -0.017654\n",
              "2023-04-03 -0.005969 -0.003691\n",
              "2023-04-04  0.000158  0.003576\n",
              "2023-04-05  0.001501 -0.008747\n",
              "2023-04-06 -0.007396 -0.001545\n",
              "\n",
              "[248 rows x 2 columns]"
            ],
            "text/html": [
              "\n",
              "  <div id=\"df-25131dc0-202a-40c0-bf48-6077d687456b\">\n",
              "    <div class=\"colab-df-container\">\n",
              "      <div>\n",
              "<style scoped>\n",
              "    .dataframe tbody tr th:only-of-type {\n",
              "        vertical-align: middle;\n",
              "    }\n",
              "\n",
              "    .dataframe tbody tr th {\n",
              "        vertical-align: top;\n",
              "    }\n",
              "\n",
              "    .dataframe thead th {\n",
              "        text-align: right;\n",
              "    }\n",
              "</style>\n",
              "<table border=\"1\" class=\"dataframe\">\n",
              "  <thead>\n",
              "    <tr style=\"text-align: right;\">\n",
              "      <th></th>\n",
              "      <th>dolar</th>\n",
              "      <th>ibovespa</th>\n",
              "    </tr>\n",
              "    <tr>\n",
              "      <th>Date</th>\n",
              "      <th></th>\n",
              "      <th></th>\n",
              "    </tr>\n",
              "  </thead>\n",
              "  <tbody>\n",
              "    <tr>\n",
              "      <th>2022-04-12</th>\n",
              "      <td>-0.000958</td>\n",
              "      <td>-0.006892</td>\n",
              "    </tr>\n",
              "    <tr>\n",
              "      <th>2022-04-13</th>\n",
              "      <td>-0.004368</td>\n",
              "      <td>0.005467</td>\n",
              "    </tr>\n",
              "    <tr>\n",
              "      <th>2022-04-14</th>\n",
              "      <td>0.003659</td>\n",
              "      <td>-0.005138</td>\n",
              "    </tr>\n",
              "    <tr>\n",
              "      <th>2022-04-18</th>\n",
              "      <td>0.002217</td>\n",
              "      <td>-0.004261</td>\n",
              "    </tr>\n",
              "    <tr>\n",
              "      <th>2022-04-19</th>\n",
              "      <td>-0.010339</td>\n",
              "      <td>-0.005446</td>\n",
              "    </tr>\n",
              "    <tr>\n",
              "      <th>...</th>\n",
              "      <td>...</td>\n",
              "      <td>...</td>\n",
              "    </tr>\n",
              "    <tr>\n",
              "      <th>2023-03-31</th>\n",
              "      <td>-0.008083</td>\n",
              "      <td>-0.017654</td>\n",
              "    </tr>\n",
              "    <tr>\n",
              "      <th>2023-04-03</th>\n",
              "      <td>-0.005969</td>\n",
              "      <td>-0.003691</td>\n",
              "    </tr>\n",
              "    <tr>\n",
              "      <th>2023-04-04</th>\n",
              "      <td>0.000158</td>\n",
              "      <td>0.003576</td>\n",
              "    </tr>\n",
              "    <tr>\n",
              "      <th>2023-04-05</th>\n",
              "      <td>0.001501</td>\n",
              "      <td>-0.008747</td>\n",
              "    </tr>\n",
              "    <tr>\n",
              "      <th>2023-04-06</th>\n",
              "      <td>-0.007396</td>\n",
              "      <td>-0.001545</td>\n",
              "    </tr>\n",
              "  </tbody>\n",
              "</table>\n",
              "<p>248 rows × 2 columns</p>\n",
              "</div>\n",
              "      <button class=\"colab-df-convert\" onclick=\"convertToInteractive('df-25131dc0-202a-40c0-bf48-6077d687456b')\"\n",
              "              title=\"Convert this dataframe to an interactive table.\"\n",
              "              style=\"display:none;\">\n",
              "        \n",
              "  <svg xmlns=\"http://www.w3.org/2000/svg\" height=\"24px\"viewBox=\"0 0 24 24\"\n",
              "       width=\"24px\">\n",
              "    <path d=\"M0 0h24v24H0V0z\" fill=\"none\"/>\n",
              "    <path d=\"M18.56 5.44l.94 2.06.94-2.06 2.06-.94-2.06-.94-.94-2.06-.94 2.06-2.06.94zm-11 1L8.5 8.5l.94-2.06 2.06-.94-2.06-.94L8.5 2.5l-.94 2.06-2.06.94zm10 10l.94 2.06.94-2.06 2.06-.94-2.06-.94-.94-2.06-.94 2.06-2.06.94z\"/><path d=\"M17.41 7.96l-1.37-1.37c-.4-.4-.92-.59-1.43-.59-.52 0-1.04.2-1.43.59L10.3 9.45l-7.72 7.72c-.78.78-.78 2.05 0 2.83L4 21.41c.39.39.9.59 1.41.59.51 0 1.02-.2 1.41-.59l7.78-7.78 2.81-2.81c.8-.78.8-2.07 0-2.86zM5.41 20L4 18.59l7.72-7.72 1.47 1.35L5.41 20z\"/>\n",
              "  </svg>\n",
              "      </button>\n",
              "      \n",
              "  <style>\n",
              "    .colab-df-container {\n",
              "      display:flex;\n",
              "      flex-wrap:wrap;\n",
              "      gap: 12px;\n",
              "    }\n",
              "\n",
              "    .colab-df-convert {\n",
              "      background-color: #E8F0FE;\n",
              "      border: none;\n",
              "      border-radius: 50%;\n",
              "      cursor: pointer;\n",
              "      display: none;\n",
              "      fill: #1967D2;\n",
              "      height: 32px;\n",
              "      padding: 0 0 0 0;\n",
              "      width: 32px;\n",
              "    }\n",
              "\n",
              "    .colab-df-convert:hover {\n",
              "      background-color: #E2EBFA;\n",
              "      box-shadow: 0px 1px 2px rgba(60, 64, 67, 0.3), 0px 1px 3px 1px rgba(60, 64, 67, 0.15);\n",
              "      fill: #174EA6;\n",
              "    }\n",
              "\n",
              "    [theme=dark] .colab-df-convert {\n",
              "      background-color: #3B4455;\n",
              "      fill: #D2E3FC;\n",
              "    }\n",
              "\n",
              "    [theme=dark] .colab-df-convert:hover {\n",
              "      background-color: #434B5C;\n",
              "      box-shadow: 0px 1px 3px 1px rgba(0, 0, 0, 0.15);\n",
              "      filter: drop-shadow(0px 1px 2px rgba(0, 0, 0, 0.3));\n",
              "      fill: #FFFFFF;\n",
              "    }\n",
              "  </style>\n",
              "\n",
              "      <script>\n",
              "        const buttonEl =\n",
              "          document.querySelector('#df-25131dc0-202a-40c0-bf48-6077d687456b button.colab-df-convert');\n",
              "        buttonEl.style.display =\n",
              "          google.colab.kernel.accessAllowed ? 'block' : 'none';\n",
              "\n",
              "        async function convertToInteractive(key) {\n",
              "          const element = document.querySelector('#df-25131dc0-202a-40c0-bf48-6077d687456b');\n",
              "          const dataTable =\n",
              "            await google.colab.kernel.invokeFunction('convertToInteractive',\n",
              "                                                     [key], {});\n",
              "          if (!dataTable) return;\n",
              "\n",
              "          const docLinkHtml = 'Like what you see? Visit the ' +\n",
              "            '<a target=\"_blank\" href=https://colab.research.google.com/notebooks/data_table.ipynb>data table notebook</a>'\n",
              "            + ' to learn more about interactive tables.';\n",
              "          element.innerHTML = '';\n",
              "          dataTable['output_type'] = 'display_data';\n",
              "          await google.colab.output.renderOutput(dataTable, element);\n",
              "          const docLink = document.createElement('div');\n",
              "          docLink.innerHTML = docLinkHtml;\n",
              "          element.appendChild(docLink);\n",
              "        }\n",
              "      </script>\n",
              "    </div>\n",
              "  </div>\n",
              "  "
            ]
          },
          "metadata": {},
          "execution_count": 7
        }
      ],
      "source": [
        "retorno_no_ano = dados_fechamento_anual.pct_change().dropna()\n",
        "retorno_no_mes = dados_fechamento_mensal.pct_change().dropna()\n",
        "retorno_no_dia = dados_fechamento.pct_change().dropna()\n",
        "\n",
        "retorno_no_dia"
      ]
    },
    {
      "cell_type": "markdown",
      "id": "0d0bcc0e",
      "metadata": {
        "id": "0d0bcc0e"
      },
      "source": [
        "# Passo 5 - Localizar o fechamento do dia anterior, retorno no mês e retorno no ano.\n",
        "\n",
        "* Loc -> referenciar elementos a partir do nome\n",
        "* Iloc -> selecionar elementos como uma matriz"
      ]
    },
    {
      "cell_type": "code",
      "execution_count": 8,
      "id": "c6267439",
      "metadata": {
        "colab": {
          "base_uri": "https://localhost:8080/"
        },
        "id": "c6267439",
        "outputId": "8dfdddcd-6bd8-49df-919a-115d67659d57"
      },
      "outputs": [
        {
          "output_type": "execute_result",
          "data": {
            "text/plain": [
              "-0.044353334637057595"
            ]
          },
          "metadata": {},
          "execution_count": 8
        }
      ],
      "source": [
        "retorno_dia_dolar = retorno_no_dia.iloc[-1, 0]\n",
        "retorno_dia_ibovespa = retorno_no_dia.iloc[-1, 1]\n",
        "\n",
        "retorno_mes_dolar = retorno_no_mes.iloc[-1, 0]\n",
        "retorno_mes_ibovespa = retorno_no_mes.iloc[-1, 1]\n",
        "\n",
        "retorno_ano_dolar = retorno_no_ano.iloc[-1, 0]\n",
        "retorno_ano_ibovespa = retorno_no_ano.iloc[-1, 1]\n",
        "\n",
        "retorno_ano_dolar"
      ]
    },
    {
      "cell_type": "code",
      "execution_count": 9,
      "id": "fc4a9725",
      "metadata": {
        "id": "fc4a9725"
      },
      "outputs": [],
      "source": [
        "retorno_dia_dolar = round(retorno_dia_dolar * 100, 2)\n",
        "retorno_dia_ibovespa = round(retorno_dia_ibovespa * 100, 2)\n",
        "\n",
        "retorno_mes_dolar = round(retorno_mes_dolar * 100, 2)\n",
        "retorno_mes_ibovespa = round(retorno_mes_ibovespa * 100, 2)\n",
        "\n",
        "retorno_ano_dolar = round(retorno_ano_dolar * 100, 2)\n",
        "retorno_ano_ibovespa = round(retorno_ano_ibovespa * 100, 2)"
      ]
    },
    {
      "cell_type": "markdown",
      "id": "9b23491f",
      "metadata": {
        "id": "9b23491f"
      },
      "source": [
        "# Passo 6 - Fazer os gráficos da performance do último dos ativos"
      ]
    },
    {
      "cell_type": "code",
      "execution_count": 10,
      "id": "8f72b381",
      "metadata": {
        "colab": {
          "base_uri": "https://localhost:8080/",
          "height": 446
        },
        "id": "8f72b381",
        "outputId": "0a326898-da45-4351-b2f0-356ab673fab2"
      },
      "outputs": [
        {
          "output_type": "display_data",
          "data": {
            "text/plain": [
              "<Figure size 640x480 with 1 Axes>"
            ],
            "image/png": "[encoded data removed]"
          },
          "metadata": {}
        }
      ],
      "source": [
        "plt.style.use(\"cyberpunk\")\n",
        "\n",
        "dados_fechamento.plot(y = 'ibovespa', use_index = True, legend = False)\n",
        "\n",
        "plt.title(\"Ibovespa\")\n",
        "\n",
        "plt.savefig('ibovespa.png', dpi = 300)\n",
        "\n",
        "plt.show()"
      ]
    },
    {
      "cell_type": "code",
      "execution_count": 11,
      "id": "6b3c44c3",
      "metadata": {
        "colab": {
          "base_uri": "https://localhost:8080/",
          "height": 446
        },
        "id": "6b3c44c3",
        "outputId": "4296c65b-e470-44cf-ae9e-1822c1062dec"
      },
      "outputs": [
        {
          "output_type": "display_data",
          "data": {
            "text/plain": [
              "<Figure size 640x480 with 1 Axes>"
            ],
            "image/png": "[encoded data removed]"
          },
          "metadata": {}
        }
      ],
      "source": [
        "plt.style.use(\"cyberpunk\")\n",
        "\n",
        "dados_fechamento.plot(y = 'dolar', use_index = True, legend = False)\n",
        "\n",
        "plt.title(\"Dolar\")\n",
        "\n",
        "plt.savefig('dolar.png', dpi = 300)\n",
        "\n",
        "plt.show()"
      ]
    },
    {
      "cell_type": "markdown",
      "id": "e3f516b6",
      "metadata": {
        "id": "e3f516b6"
      },
      "source": [
        "# Passo 7: Enviar e-mail\n",
        "\n",
        "https://myaccount.google.com/apppasswords"
      ]
    },
    {
      "cell_type": "code",
      "execution_count": 12,
      "id": "bb1d8729",
      "metadata": {
        "id": "bb1d8729"
      },
      "outputs": [],
      "source": [
        "import os\n",
        "from dotenv import load_dotenv"
      ]
    },
    {
      "cell_type": "code",
      "execution_count": 13,
      "id": "5d75c7ae",
      "metadata": {
        "scrolled": true,
        "colab": {
          "base_uri": "https://localhost:8080/"
        },
        "id": "5d75c7ae",
        "outputId": "13f697fb-e6f0-4e82-bb5a-bee248380bdb"
      },
      "outputs": [
        {
          "output_type": "execute_result",
          "data": {
            "text/plain": [
              "False"
            ]
          },
          "metadata": {},
          "execution_count": 13
        }
      ],
      "source": [
        "load_dotenv()"
      ]
    },
    {
      "cell_type": "code",
      "execution_count": 14,
      "id": "c0676126",
      "metadata": {
        "id": "c0676126"
      },
      "outputs": [],
      "source": [
        "senha = os.environ.get(\"senha_email\")\n",
        "email = 'ezeq70@gmail.com'"
      ]
    },
    {
      "cell_type": "code",
      "execution_count": 15,
      "id": "d843834d",
      "metadata": {
        "colab": {
          "base_uri": "https://localhost:8080/"
        },
        "id": "d843834d",
        "outputId": "043d1254-56de-4a6a-ccb2-f6f7f8e3b842"
      },
      "outputs": [
        {
          "output_type": "execute_result",
          "data": {
            "text/plain": [
              "-8.37"
            ]
          },
          "metadata": {},
          "execution_count": 15
        }
      ],
      "source": [
        "retorno_ano_ibovespa"
      ]
    },
    {
      "cell_type": "code",
      "execution_count": 19,
      "id": "09720b00",
      "metadata": {
        "id": "09720b00"
      },
      "outputs": [],
      "source": [
        "msg = EmailMessage()\n",
        "msg['Subject'] = \"Enviando e-mail com o Python\"\n",
        "msg['From'] = 'ezeq70@gmail.com'\n",
        "msg['To'] = 'ezeq70@gmail.com'\n",
        "\n",
        "msg.set_content(f'''Prezado diretor, segue o relatório diário:\n",
        "\n",
        "Bolsa:\n",
        "\n",
        "No ano o Ibovespa está tendo uma rentabilidade de {retorno_ano_ibovespa}%, \n",
        "enquanto no mês a rentabilidade é de {retorno_mes_ibovespa}%.\n",
        "\n",
        "No último dia útil, o fechamento do Ibovespa foi de {retorno_dia_ibovespa}%.\n",
        "\n",
        "Dólar:\n",
        "\n",
        "No ano o Dólar está tendo uma rentabilidade de {retorno_ano_dolar}%, \n",
        "enquanto no mês a rentabilidade é de {retorno_mes_dolar}%.\n",
        "\n",
        "No último dia útil, o fechamento do Dólar foi de {retorno_dia_dolar}%.\n",
        "\n",
        "\n",
        "Abs,\n",
        "\n",
        "O melhor estagiário do mundo\n",
        "\n",
        "''')"
      ]
    },
    {
      "cell_type": "code",
      "execution_count": 20,
      "id": "46ff0d22",
      "metadata": {
        "id": "46ff0d22"
      },
      "outputs": [],
      "source": [
        "with open('dolar.png', 'rb') as content_file:\n",
        "    content = content_file.read()\n",
        "    msg.add_attachment(content, maintype='application', subtype='png', filename='dolar.png')\n",
        "    \n",
        "    \n",
        "with open('ibovespa.png', 'rb') as content_file:\n",
        "    content = content_file.read()\n",
        "    msg.add_attachment(content, maintype='application', subtype='png', filename='ibovespa.png')"
      ]
    },
    {
      "cell_type": "code",
      "execution_count": 24,
      "id": "f265b4dc",
      "metadata": {
        "colab": {
          "base_uri": "https://localhost:8080/",
          "height": 217
        },
        "id": "f265b4dc",
        "outputId": "3bb8eb66-ead7-48f5-c284-dabb34695a85"
      },
      "outputs": [
        {
          "output_type": "error",
          "ename": "NameError",
          "evalue": "ignored",
          "traceback": [
            "\u001b[0;31m---------------------------------------------------------------------------\u001b[0m",
            "\u001b[0;31mNameError\u001b[0m                                 Traceback (most recent call last)",
            "\u001b[0;32m<ipython-input-24-6d78e4d6dc5d>\u001b[0m in \u001b[0;36m<cell line: 1>\u001b[0;34m()\u001b[0m\n\u001b[1;32m      1\u001b[0m \u001b[0;32mwith\u001b[0m \u001b[0msmtplib\u001b[0m\u001b[0;34m.\u001b[0m\u001b[0mSMTP_SSL\u001b[0m\u001b[0;34m(\u001b[0m\u001b[0;34m'smtp.gmail.com'\u001b[0m\u001b[0;34m,\u001b[0m \u001b[0;36m465\u001b[0m\u001b[0;34m)\u001b[0m \u001b[0;32mas\u001b[0m \u001b[0msmtp\u001b[0m\u001b[0;34m:\u001b[0m\u001b[0;34m\u001b[0m\u001b[0;34m\u001b[0m\u001b[0m\n\u001b[1;32m      2\u001b[0m \u001b[0;34m\u001b[0m\u001b[0m\n\u001b[0;32m----> 3\u001b[0;31m     \u001b[0msmtp\u001b[0m\u001b[0;34m.\u001b[0m\u001b[0mlogin\u001b[0m\u001b[0;34m(\u001b[0m\u001b[0mezeq70\u001b[0m\u001b[0;34m@\u001b[0m\u001b[0mgmail\u001b[0m\u001b[0;34m.\u001b[0m\u001b[0mcom\u001b[0m\u001b[0;34m,\u001b[0m \u001b[0;34m'Correios2310@'\u001b[0m\u001b[0;34m)\u001b[0m\u001b[0;34m\u001b[0m\u001b[0;34m\u001b[0m\u001b[0m\n\u001b[0m\u001b[1;32m      4\u001b[0m     \u001b[0msmtp\u001b[0m\u001b[0;34m.\u001b[0m\u001b[0msend_message\u001b[0m\u001b[0;34m(\u001b[0m\u001b[0mmsg\u001b[0m\u001b[0;34m)\u001b[0m\u001b[0;34m\u001b[0m\u001b[0;34m\u001b[0m\u001b[0m\n",
            "\u001b[0;31mNameError\u001b[0m: name 'ezeq70' is not defined"
          ]
        }
      ],
      "source": [
        "with smtplib.SMTP_SSL('smtp.gmail.com', 465) as smtp:\n",
        "    \n",
        "    smtp.login(ezeq70@gmail.com, 'Correios2310@')\n",
        "    smtp.send_message(msg)"
      ]
    },
    {
      "cell_type": "code",
      "execution_count": null,
      "id": "47bc9fb1",
      "metadata": {
        "id": "47bc9fb1"
      },
      "outputs": [],
      "source": [
        "\n"
      ]
    },
    {
      "cell_type": "code",
      "execution_count": null,
      "id": "0178d9ed",
      "metadata": {
        "id": "0178d9ed"
      },
      "outputs": [],
      "source": []
    },
    {
      "cell_type": "code",
      "execution_count": null,
      "id": "1a559197",
      "metadata": {
        "id": "1a559197"
      },
      "outputs": [],
      "source": []
    },
    {
      "cell_type": "code",
      "execution_count": null,
      "id": "ddf92ad4",
      "metadata": {
        "id": "ddf92ad4"
      },
      "outputs": [],
      "source": []
    },
    {
      "cell_type": "code",
      "execution_count": null,
      "id": "bb15e5f4",
      "metadata": {
        "id": "bb15e5f4"
      },
      "outputs": [],
      "source": []
    },
    {
      "cell_type": "code",
      "execution_count": null,
      "id": "8a3fffbd",
      "metadata": {
        "id": "8a3fffbd"
      },
      "outputs": [],
      "source": []
    },
    {
      "cell_type": "code",
      "execution_count": null,
      "id": "347a740d",
      "metadata": {
        "id": "347a740d"
      },
      "outputs": [],
      "source": []
    },
    {
      "cell_type": "code",
      "execution_count": null,
      "id": "fc2fec41",
      "metadata": {
        "id": "fc2fec41"
      },
      "outputs": [],
      "source": []
    },
    {
      "cell_type": "code",
      "execution_count": null,
      "id": "614daa23",
      "metadata": {
        "id": "614daa23"
      },
      "outputs": [],
      "source": []
    },
    {
      "cell_type": "code",
      "execution_count": null,
      "id": "cddd151c",
      "metadata": {
        "id": "cddd151c"
      },
      "outputs": [],
      "source": []
    },
    {
      "cell_type": "code",
      "execution_count": null,
      "id": "4bf21526",
      "metadata": {
        "id": "4bf21526"
      },
      "outputs": [],
      "source": []
    },
    {
      "cell_type": "code",
      "execution_count": null,
      "id": "09b95897",
      "metadata": {
        "id": "09b95897"
      },
      "outputs": [],
      "source": []
    },
    {
      "cell_type": "code",
      "execution_count": null,
      "id": "1e799c02",
      "metadata": {
        "id": "1e799c02"
      },
      "outputs": [],
      "source": []
    },
    {
      "cell_type": "code",
      "execution_count": null,
      "id": "d8cbc417",
      "metadata": {
        "id": "d8cbc417"
      },
      "outputs": [],
      "source": []
    },
    {
      "cell_type": "code",
      "execution_count": null,
      "id": "645a7194",
      "metadata": {
        "id": "645a7194"
      },
      "outputs": [],
      "source": []
    }
  ],
  "metadata": {
    "kernelspec": {
      "display_name": "Python 3 (ipykernel)",
      "language": "python",
      "name": "python3"
    },
    "language_info": {
      "codemirror_mode": {
        "name": "ipython",
        "version": 3
      },
      "file_extension": ".py",
      "mimetype": "text/x-python",
      "name": "python",
      "nbconvert_exporter": "python",
      "pygments_lexer": "ipython3",
      "version": "3.9.12"
    },
    "colab": {
      "provenance": [],
      "include_colab_link": true
    }
  },
  "nbformat": 4,
  "nbformat_minor": 5
}